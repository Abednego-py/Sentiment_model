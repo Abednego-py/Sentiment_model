{
 "cells": [
  {
   "attachments": {},
   "cell_type": "markdown",
   "metadata": {},
   "source": [
    "#### This notebook contains code to build a neural network to predict text sentiment"
   ]
  },
  {
   "cell_type": "code",
   "execution_count": 1,
   "metadata": {},
   "outputs": [],
   "source": [
    "import tensorflow as tf\n",
    "\n",
    "from tensorflow.keras.preprocessing.text import Tokenizer\n",
    "from tensorflow.keras.preprocessing.sequence import pad_sequences"
   ]
  },
  {
   "cell_type": "code",
   "execution_count": 2,
   "metadata": {},
   "outputs": [],
   "source": [
    "import numpy as np\n",
    "import pandas as pd\n",
    "\n",
    "dataset = pd.read_csv('sentiment/cleaned_data.csv').iloc[1:,:2]\n",
    "dataset = dataset[:600]\n",
    "dataset.columns = ['Reviews', 'sentiment']"
   ]
  },
  {
   "cell_type": "code",
   "execution_count": 3,
   "metadata": {},
   "outputs": [
    {
     "data": {
      "text/html": [
       "<div>\n",
       "<style scoped>\n",
       "    .dataframe tbody tr th:only-of-type {\n",
       "        vertical-align: middle;\n",
       "    }\n",
       "\n",
       "    .dataframe tbody tr th {\n",
       "        vertical-align: top;\n",
       "    }\n",
       "\n",
       "    .dataframe thead th {\n",
       "        text-align: right;\n",
       "    }\n",
       "</style>\n",
       "<table border=\"1\" class=\"dataframe\">\n",
       "  <thead>\n",
       "    <tr style=\"text-align: right;\">\n",
       "      <th></th>\n",
       "      <th>Reviews</th>\n",
       "      <th>sentiment</th>\n",
       "    </tr>\n",
       "  </thead>\n",
       "  <tbody>\n",
       "    <tr>\n",
       "      <th>1</th>\n",
       "      <td>Great for the jawbone.</td>\n",
       "      <td>1</td>\n",
       "    </tr>\n",
       "    <tr>\n",
       "      <th>2</th>\n",
       "      <td>Tied to charger for conversations lasting more...</td>\n",
       "      <td>0</td>\n",
       "    </tr>\n",
       "    <tr>\n",
       "      <th>3</th>\n",
       "      <td>The mic is great.</td>\n",
       "      <td>1</td>\n",
       "    </tr>\n",
       "    <tr>\n",
       "      <th>4</th>\n",
       "      <td>I have to jiggle the plug to get it to line up...</td>\n",
       "      <td>0</td>\n",
       "    </tr>\n",
       "    <tr>\n",
       "      <th>5</th>\n",
       "      <td>If you have several dozen or several hundred c...</td>\n",
       "      <td>0</td>\n",
       "    </tr>\n",
       "  </tbody>\n",
       "</table>\n",
       "</div>"
      ],
      "text/plain": [
       "                                             Reviews sentiment\n",
       "1                             Great for the jawbone.         1\n",
       "2  Tied to charger for conversations lasting more...         0\n",
       "3                                  The mic is great.         1\n",
       "4  I have to jiggle the plug to get it to line up...         0\n",
       "5  If you have several dozen or several hundred c...         0"
      ]
     },
     "execution_count": 3,
     "metadata": {},
     "output_type": "execute_result"
    }
   ],
   "source": [
    "dataset.head()"
   ]
  },
  {
   "cell_type": "code",
   "execution_count": 4,
   "metadata": {},
   "outputs": [
    {
     "data": {
      "text/html": [
       "<div>\n",
       "<style scoped>\n",
       "    .dataframe tbody tr th:only-of-type {\n",
       "        vertical-align: middle;\n",
       "    }\n",
       "\n",
       "    .dataframe tbody tr th {\n",
       "        vertical-align: top;\n",
       "    }\n",
       "\n",
       "    .dataframe thead th {\n",
       "        text-align: right;\n",
       "    }\n",
       "</style>\n",
       "<table border=\"1\" class=\"dataframe\">\n",
       "  <thead>\n",
       "    <tr style=\"text-align: right;\">\n",
       "      <th></th>\n",
       "      <th>Reviews</th>\n",
       "      <th>sentiment</th>\n",
       "    </tr>\n",
       "  </thead>\n",
       "  <tbody>\n",
       "    <tr>\n",
       "      <th>596</th>\n",
       "      <td>A pretty good product.</td>\n",
       "      <td>1</td>\n",
       "    </tr>\n",
       "    <tr>\n",
       "      <th>597</th>\n",
       "      <td>This is a great phone!.</td>\n",
       "      <td>1</td>\n",
       "    </tr>\n",
       "    <tr>\n",
       "      <th>598</th>\n",
       "      <td>For the price on Amazon</td>\n",
       "      <td>1</td>\n",
       "    </tr>\n",
       "    <tr>\n",
       "      <th>599</th>\n",
       "      <td>Their Research and Development division obviou...</td>\n",
       "      <td>1</td>\n",
       "    </tr>\n",
       "    <tr>\n",
       "      <th>600</th>\n",
       "      <td>The real killer is the volume</td>\n",
       "      <td>0</td>\n",
       "    </tr>\n",
       "  </tbody>\n",
       "</table>\n",
       "</div>"
      ],
      "text/plain": [
       "                                               Reviews sentiment\n",
       "596                             A pretty good product.         1\n",
       "597                            This is a great phone!.         1\n",
       "598                            For the price on Amazon         1\n",
       "599  Their Research and Development division obviou...         1\n",
       "600                      The real killer is the volume         0"
      ]
     },
     "execution_count": 4,
     "metadata": {},
     "output_type": "execute_result"
    }
   ],
   "source": [
    "dataset.tail()"
   ]
  },
  {
   "cell_type": "code",
   "execution_count": 5,
   "metadata": {},
   "outputs": [
    {
     "data": {
      "text/plain": [
       "(600, 2)"
      ]
     },
     "execution_count": 5,
     "metadata": {},
     "output_type": "execute_result"
    }
   ],
   "source": [
    "dataset.shape"
   ]
  },
  {
   "cell_type": "code",
   "execution_count": 6,
   "metadata": {},
   "outputs": [],
   "source": [
    "sentences = dataset['Reviews'].tolist()\n",
    "labels = dataset['sentiment'].tolist()"
   ]
  },
  {
   "cell_type": "code",
   "execution_count": 7,
   "metadata": {},
   "outputs": [],
   "source": [
    "# Separate out the sentences and labels into training and test sets\n",
    "training_size = int(len(sentences) * 0.8)\n",
    "\n",
    "training_sentences = sentences[0:training_size]\n",
    "testing_sentences = sentences[training_size:]\n",
    "training_labels = labels[0:training_size]\n",
    "testing_labels = labels[training_size:]\n",
    "\n",
    "# Make labels into numpy arrays for use with the network later\n",
    "training_labels_final = np.array(training_labels)\n",
    "testing_labels_final = np.array(testing_labels)"
   ]
  },
  {
   "cell_type": "code",
   "execution_count": 15,
   "metadata": {},
   "outputs": [],
   "source": [
    "training_labels_final = np.asarray(training_labels_final).astype(\"float64\")\n",
    "testing_labels_final = np.asarray(testing_labels_final).astype(\"float64\")"
   ]
  },
  {
   "attachments": {},
   "cell_type": "markdown",
   "metadata": {},
   "source": [
    "### Tokenize the dataset"
   ]
  },
  {
   "cell_type": "code",
   "execution_count": 8,
   "metadata": {},
   "outputs": [],
   "source": [
    "vocab_size = 1000\n",
    "embedding_dim = 16\n",
    "max_length = 100\n",
    "trunc_type='post'\n",
    "padding_type='post'"
   ]
  },
  {
   "cell_type": "code",
   "execution_count": 9,
   "metadata": {},
   "outputs": [],
   "source": [
    "vocab_size = 500\n",
    "embedding_dim = 16\n",
    "max_length = 50\n",
    "trunc_type='post'\n",
    "padding_type='post'\n",
    "oov_tok = \"<OOV>\"\n",
    "\n",
    "tokenizer = Tokenizer(num_words = vocab_size, oov_token=oov_tok)\n",
    "tokenizer.fit_on_texts(training_sentences)\n",
    "word_index = tokenizer.word_index\n",
    "training_sequences = tokenizer.texts_to_sequences(training_sentences)\n",
    "training_padded = pad_sequences(training_sequences, maxlen=max_length, padding=padding_type, truncating=trunc_type)\n",
    "\n",
    "testing_sequences = tokenizer.texts_to_sequences(testing_sentences)\n",
    "testing_padded = pad_sequences(testing_sequences, maxlen=max_length, padding=padding_type, truncating=trunc_type)"
   ]
  },
  {
   "attachments": {},
   "cell_type": "markdown",
   "metadata": {},
   "source": [
    "### Sentiment Model"
   ]
  },
  {
   "cell_type": "code",
   "execution_count": 10,
   "metadata": {},
   "outputs": [
    {
     "name": "stdout",
     "output_type": "stream",
     "text": [
      "Model: \"sequential\"\n",
      "_________________________________________________________________\n",
      " Layer (type)                Output Shape              Param #   \n",
      "=================================================================\n",
      " embedding (Embedding)       (None, 50, 16)            8000      \n",
      "                                                                 \n",
      " global_average_pooling1d (G  (None, 16)               0         \n",
      " lobalAveragePooling1D)                                          \n",
      "                                                                 \n",
      " dense (Dense)               (None, 6)                 102       \n",
      "                                                                 \n",
      " dense_1 (Dense)             (None, 1)                 7         \n",
      "                                                                 \n",
      "=================================================================\n",
      "Total params: 8,109\n",
      "Trainable params: 8,109\n",
      "Non-trainable params: 0\n",
      "_________________________________________________________________\n"
     ]
    }
   ],
   "source": [
    "model = tf.keras.Sequential([\n",
    "    tf.keras.layers.Embedding(vocab_size, embedding_dim, input_length=max_length),\n",
    "    tf.keras.layers.GlobalAveragePooling1D(),\n",
    "    tf.keras.layers.Dense(6, activation='relu'),\n",
    "    tf.keras.layers.Dense(1, activation='sigmoid')\n",
    "])\n",
    "model.compile(loss='binary_crossentropy',optimizer='adam',metrics=['accuracy'])\n",
    "model.summary()"
   ]
  },
  {
   "cell_type": "code",
   "execution_count": 17,
   "metadata": {},
   "outputs": [
    {
     "name": "stdout",
     "output_type": "stream",
     "text": [
      "Epoch 1/50\n",
      "15/15 [==============================] - 0s 12ms/step - loss: 0.5616 - accuracy: 0.7917 - val_loss: 0.6144 - val_accuracy: 0.7167\n",
      "Epoch 2/50\n",
      "15/15 [==============================] - 0s 7ms/step - loss: 0.5507 - accuracy: 0.8083 - val_loss: 0.6083 - val_accuracy: 0.7167\n",
      "Epoch 3/50\n",
      "15/15 [==============================] - 0s 7ms/step - loss: 0.5415 - accuracy: 0.8562 - val_loss: 0.6017 - val_accuracy: 0.7000\n",
      "Epoch 4/50\n",
      "15/15 [==============================] - 0s 10ms/step - loss: 0.5297 - accuracy: 0.8167 - val_loss: 0.5957 - val_accuracy: 0.7167\n",
      "Epoch 5/50\n",
      "15/15 [==============================] - 0s 9ms/step - loss: 0.5163 - accuracy: 0.8521 - val_loss: 0.5897 - val_accuracy: 0.7250\n",
      "Epoch 6/50\n",
      "15/15 [==============================] - 0s 9ms/step - loss: 0.5049 - accuracy: 0.8750 - val_loss: 0.5830 - val_accuracy: 0.7333\n",
      "Epoch 7/50\n",
      "15/15 [==============================] - 0s 10ms/step - loss: 0.4947 - accuracy: 0.8729 - val_loss: 0.5772 - val_accuracy: 0.7417\n",
      "Epoch 8/50\n",
      "15/15 [==============================] - 0s 14ms/step - loss: 0.4817 - accuracy: 0.8729 - val_loss: 0.5710 - val_accuracy: 0.7250\n",
      "Epoch 9/50\n",
      "15/15 [==============================] - 0s 10ms/step - loss: 0.4700 - accuracy: 0.8833 - val_loss: 0.5659 - val_accuracy: 0.7417\n",
      "Epoch 10/50\n",
      "15/15 [==============================] - 0s 7ms/step - loss: 0.4593 - accuracy: 0.8813 - val_loss: 0.5596 - val_accuracy: 0.7667\n",
      "Epoch 11/50\n",
      "15/15 [==============================] - 0s 7ms/step - loss: 0.4469 - accuracy: 0.8854 - val_loss: 0.5545 - val_accuracy: 0.7583\n",
      "Epoch 12/50\n",
      "15/15 [==============================] - 0s 7ms/step - loss: 0.4356 - accuracy: 0.8938 - val_loss: 0.5490 - val_accuracy: 0.7583\n",
      "Epoch 13/50\n",
      "15/15 [==============================] - 0s 7ms/step - loss: 0.4248 - accuracy: 0.8938 - val_loss: 0.5439 - val_accuracy: 0.7583\n",
      "Epoch 14/50\n",
      "15/15 [==============================] - 0s 7ms/step - loss: 0.4144 - accuracy: 0.8896 - val_loss: 0.5391 - val_accuracy: 0.7667\n",
      "Epoch 15/50\n",
      "15/15 [==============================] - 0s 7ms/step - loss: 0.4045 - accuracy: 0.8958 - val_loss: 0.5346 - val_accuracy: 0.7667\n",
      "Epoch 16/50\n",
      "15/15 [==============================] - 0s 6ms/step - loss: 0.3938 - accuracy: 0.9062 - val_loss: 0.5316 - val_accuracy: 0.7750\n",
      "Epoch 17/50\n",
      "15/15 [==============================] - 0s 6ms/step - loss: 0.3841 - accuracy: 0.9021 - val_loss: 0.5263 - val_accuracy: 0.7667\n",
      "Epoch 18/50\n",
      "15/15 [==============================] - 0s 6ms/step - loss: 0.3758 - accuracy: 0.9000 - val_loss: 0.5218 - val_accuracy: 0.7667\n",
      "Epoch 19/50\n",
      "15/15 [==============================] - 0s 5ms/step - loss: 0.3659 - accuracy: 0.9104 - val_loss: 0.5210 - val_accuracy: 0.7750\n",
      "Epoch 20/50\n",
      "15/15 [==============================] - 0s 6ms/step - loss: 0.3562 - accuracy: 0.8979 - val_loss: 0.5149 - val_accuracy: 0.7750\n",
      "Epoch 21/50\n",
      "15/15 [==============================] - 0s 6ms/step - loss: 0.3478 - accuracy: 0.9083 - val_loss: 0.5138 - val_accuracy: 0.7833\n",
      "Epoch 22/50\n",
      "15/15 [==============================] - 0s 6ms/step - loss: 0.3401 - accuracy: 0.9167 - val_loss: 0.5091 - val_accuracy: 0.7833\n",
      "Epoch 23/50\n",
      "15/15 [==============================] - 0s 6ms/step - loss: 0.3319 - accuracy: 0.9187 - val_loss: 0.5062 - val_accuracy: 0.7750\n",
      "Epoch 24/50\n",
      "15/15 [==============================] - 0s 7ms/step - loss: 0.3235 - accuracy: 0.9187 - val_loss: 0.5030 - val_accuracy: 0.7833\n",
      "Epoch 25/50\n",
      "15/15 [==============================] - 0s 6ms/step - loss: 0.3156 - accuracy: 0.9187 - val_loss: 0.5012 - val_accuracy: 0.7750\n",
      "Epoch 26/50\n",
      "15/15 [==============================] - 0s 6ms/step - loss: 0.3086 - accuracy: 0.9187 - val_loss: 0.5001 - val_accuracy: 0.7917\n",
      "Epoch 27/50\n",
      "15/15 [==============================] - 0s 6ms/step - loss: 0.3017 - accuracy: 0.9187 - val_loss: 0.4953 - val_accuracy: 0.7833\n",
      "Epoch 28/50\n",
      "15/15 [==============================] - 0s 6ms/step - loss: 0.2960 - accuracy: 0.9208 - val_loss: 0.4928 - val_accuracy: 0.7833\n",
      "Epoch 29/50\n",
      "15/15 [==============================] - 0s 6ms/step - loss: 0.2887 - accuracy: 0.9229 - val_loss: 0.4947 - val_accuracy: 0.7833\n",
      "Epoch 30/50\n",
      "15/15 [==============================] - 0s 6ms/step - loss: 0.2823 - accuracy: 0.9187 - val_loss: 0.4899 - val_accuracy: 0.7750\n",
      "Epoch 31/50\n",
      "15/15 [==============================] - 0s 7ms/step - loss: 0.2773 - accuracy: 0.9187 - val_loss: 0.4875 - val_accuracy: 0.7667\n",
      "Epoch 32/50\n",
      "15/15 [==============================] - 0s 6ms/step - loss: 0.2712 - accuracy: 0.9250 - val_loss: 0.4859 - val_accuracy: 0.7750\n",
      "Epoch 33/50\n",
      "15/15 [==============================] - 0s 6ms/step - loss: 0.2667 - accuracy: 0.9208 - val_loss: 0.4861 - val_accuracy: 0.7833\n",
      "Epoch 34/50\n",
      "15/15 [==============================] - 0s 6ms/step - loss: 0.2597 - accuracy: 0.9292 - val_loss: 0.4838 - val_accuracy: 0.7667\n",
      "Epoch 35/50\n",
      "15/15 [==============================] - 0s 6ms/step - loss: 0.2544 - accuracy: 0.9312 - val_loss: 0.4845 - val_accuracy: 0.7750\n",
      "Epoch 36/50\n",
      "15/15 [==============================] - 0s 10ms/step - loss: 0.2502 - accuracy: 0.9271 - val_loss: 0.4830 - val_accuracy: 0.7750\n",
      "Epoch 37/50\n",
      "15/15 [==============================] - 0s 5ms/step - loss: 0.2447 - accuracy: 0.9354 - val_loss: 0.4816 - val_accuracy: 0.7667\n",
      "Epoch 38/50\n",
      "15/15 [==============================] - 0s 5ms/step - loss: 0.2404 - accuracy: 0.9354 - val_loss: 0.4797 - val_accuracy: 0.7667\n",
      "Epoch 39/50\n",
      "15/15 [==============================] - 0s 6ms/step - loss: 0.2360 - accuracy: 0.9375 - val_loss: 0.4812 - val_accuracy: 0.7750\n",
      "Epoch 40/50\n",
      "15/15 [==============================] - 0s 6ms/step - loss: 0.2308 - accuracy: 0.9417 - val_loss: 0.4781 - val_accuracy: 0.7667\n",
      "Epoch 41/50\n",
      "15/15 [==============================] - 0s 5ms/step - loss: 0.2271 - accuracy: 0.9396 - val_loss: 0.4784 - val_accuracy: 0.7583\n",
      "Epoch 42/50\n",
      "15/15 [==============================] - 0s 6ms/step - loss: 0.2225 - accuracy: 0.9438 - val_loss: 0.4797 - val_accuracy: 0.7667\n",
      "Epoch 43/50\n",
      "15/15 [==============================] - 0s 6ms/step - loss: 0.2188 - accuracy: 0.9438 - val_loss: 0.4777 - val_accuracy: 0.7583\n",
      "Epoch 44/50\n",
      "15/15 [==============================] - 0s 6ms/step - loss: 0.2160 - accuracy: 0.9438 - val_loss: 0.4763 - val_accuracy: 0.7500\n",
      "Epoch 45/50\n",
      "15/15 [==============================] - 0s 6ms/step - loss: 0.2114 - accuracy: 0.9438 - val_loss: 0.4818 - val_accuracy: 0.7500\n",
      "Epoch 46/50\n",
      "15/15 [==============================] - 0s 6ms/step - loss: 0.2084 - accuracy: 0.9479 - val_loss: 0.4766 - val_accuracy: 0.7500\n",
      "Epoch 47/50\n",
      "15/15 [==============================] - 0s 6ms/step - loss: 0.2048 - accuracy: 0.9438 - val_loss: 0.4760 - val_accuracy: 0.7500\n",
      "Epoch 48/50\n",
      "15/15 [==============================] - 0s 8ms/step - loss: 0.2008 - accuracy: 0.9458 - val_loss: 0.4780 - val_accuracy: 0.7583\n",
      "Epoch 49/50\n",
      "15/15 [==============================] - 0s 11ms/step - loss: 0.1981 - accuracy: 0.9458 - val_loss: 0.4768 - val_accuracy: 0.7583\n",
      "Epoch 50/50\n",
      "15/15 [==============================] - 0s 8ms/step - loss: 0.1963 - accuracy: 0.9479 - val_loss: 0.4806 - val_accuracy: 0.7417\n"
     ]
    }
   ],
   "source": [
    "num_epochs = 50\n",
    "history = model.fit(training_padded, training_labels_final, epochs=num_epochs, validation_data=(testing_padded, testing_labels_final))"
   ]
  },
  {
   "cell_type": "code",
   "execution_count": 18,
   "metadata": {},
   "outputs": [
    {
     "data": {
      "image/png": "[encoded data removed]",
      "text/plain": [
       "<Figure size 432x288 with 1 Axes>"
      ]
     },
     "metadata": {
      "needs_background": "light"
     },
     "output_type": "display_data"
    },
    {
     "data": {
      "image/png": "[encoded data removed]",
      "text/plain": [
       "<Figure size 432x288 with 1 Axes>"
      ]
     },
     "metadata": {
      "needs_background": "light"
     },
     "output_type": "display_data"
    }
   ],
   "source": [
    "import matplotlib.pyplot as plt\n",
    "\n",
    "\n",
    "def plot_graphs(history, string):\n",
    "  plt.plot(history.history[string])\n",
    "  plt.plot(history.history['val_'+string])\n",
    "  plt.xlabel(\"Epochs\")\n",
    "  plt.ylabel(string)\n",
    "  plt.legend([string, 'val_'+string])\n",
    "  plt.show()\n",
    "  \n",
    "plot_graphs(history, \"accuracy\")\n",
    "plot_graphs(history, \"loss\")"
   ]
  },
  {
   "cell_type": "code",
   "execution_count": 19,
   "metadata": {},
   "outputs": [
    {
     "name": "stdout",
     "output_type": "stream",
     "text": [
      "['I love this phone', 'I hate spaghetti', 'Everything was cold', 'Everything was hot exactly as I wanted', 'Everything was green', 'the host seated us immediately', 'they gave us free chocolate cake', 'not sure about the wilted flowers on the table', 'only works when I stand on tippy toes', 'does not work when I stand on my head']\n",
      "\n",
      "HOT OFF THE PRESS! HERE ARE SOME NEWLY MINTED, ABSOLUTELY GENUINE REVIEWS!\n",
      "\n",
      "1/1 [==============================] - 0s 201ms/step\n",
      "I love this phone\n",
      "[0.9182773]\n",
      "\n",
      "\n",
      "I hate spaghetti\n",
      "[0.20549683]\n",
      "\n",
      "\n",
      "Everything was cold\n",
      "[0.6047723]\n",
      "\n",
      "\n",
      "Everything was hot exactly as I wanted\n",
      "[0.477339]\n",
      "\n",
      "\n",
      "Everything was green\n",
      "[0.6047723]\n",
      "\n",
      "\n",
      "the host seated us immediately\n",
      "[0.22586073]\n",
      "\n",
      "\n",
      "they gave us free chocolate cake\n",
      "[0.49867138]\n",
      "\n",
      "\n",
      "not sure about the wilted flowers on the table\n",
      "[0.03278346]\n",
      "\n",
      "\n",
      "only works when I stand on tippy toes\n",
      "[0.35585272]\n",
      "\n",
      "\n",
      "does not work when I stand on my head\n",
      "[0.04226987]\n",
      "\n",
      "\n"
     ]
    }
   ],
   "source": [
    "# Use the model to predict a review   \n",
    "fake_reviews = ['I love this phone', 'I hate spaghetti', \n",
    "                'Everything was cold',\n",
    "                'Everything was hot exactly as I wanted', \n",
    "                'Everything was green', \n",
    "                'the host seated us immediately',\n",
    "                'they gave us free chocolate cake', \n",
    "                'not sure about the wilted flowers on the table',\n",
    "                'only works when I stand on tippy toes', \n",
    "                'does not work when I stand on my head']\n",
    "\n",
    "print(fake_reviews) \n",
    "\n",
    "# Create the sequences\n",
    "padding_type='post'\n",
    "sample_sequences = tokenizer.texts_to_sequences(fake_reviews)\n",
    "fakes_padded = pad_sequences(sample_sequences, padding=padding_type, maxlen=max_length)           \n",
    "\n",
    "print('\\nHOT OFF THE PRESS! HERE ARE SOME NEWLY MINTED, ABSOLUTELY GENUINE REVIEWS!\\n')              \n",
    "\n",
    "classes = model.predict(fakes_padded)\n",
    "\n",
    "# The closer the class is to 1, the more positive the review is deemed to be\n",
    "for x in range(len(fake_reviews)):\n",
    "  print(fake_reviews[x])\n",
    "  print(classes[x])\n",
    "  print('\\n')\n",
    "\n",
    "# Try adding reviews of your own\n",
    "# Add some negative words (such as \"not\") to the good reviews and see what happens\n",
    "# For example:\n",
    "# they gave us free chocolate cake and did not charge us"
   ]
  },
  {
   "cell_type": "code",
   "execution_count": null,
   "metadata": {},
   "outputs": [],
   "source": []
  }
 ],
 "metadata": {
  "kernelspec": {
   "display_name": "Python 3",
   "language": "python",
   "name": "python3"
  },
  "language_info": {
   "codemirror_mode": {
    "name": "ipython",
    "version": 3
   },
   "file_extension": ".py",
   "mimetype": "text/x-python",
   "name": "python",
   "nbconvert_exporter": "python",
   "pygments_lexer": "ipython3",
   "version": "3.10.4"
  },
  "orig_nbformat": 4,
  "vscode": {
   "interpreter": {
    "hash": "cc7a029e365c75898cd282eb6fe8a0c04ee0ef22fb5074297e9777a45137949d"
   }
  }
 },
 "nbformat": 4,
 "nbformat_minor": 2
}
